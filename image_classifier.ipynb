{
  "nbformat": 4,
  "nbformat_minor": 0,
  "metadata": {
    "accelerator": "GPU",
    "colab": {
      "name": "Image classifier.ipynb",
      "provenance": [],
      "collapsed_sections": [],
      "include_colab_link": true
    },
    "kernelspec": {
      "display_name": "Python 3",
      "name": "python3"
    }
  },
  "cells": [
    {
      "cell_type": "markdown",
      "metadata": {
        "id": "view-in-github",
        "colab_type": "text"
      },
      "source": [
        "<a href=\"https://colab.research.google.com/github/Ankur-singh/CrowdSource-Workshop/blob/main/00_image_classifier.ipynb\" target=\"_parent\"><img src=\"https://colab.research.google.com/assets/colab-badge.svg\" alt=\"Open In Colab\"/></a>"
      ]
    },
    {
      "cell_type": "markdown",
      "metadata": {
        "id": "qLT042zFOfZg"
      },
      "source": [
        "## Image classifier using `fastai`\n",
        "---"
      ]
    },
    {
      "cell_type": "markdown",
      "metadata": {
        "id": "qcx8cOF7P6bu"
      },
      "source": [
        "### What is Google Colab and Fastai?\n",
        "\n",
        "#### **Google Colab**\n",
        "- Jupyter notebooks hosted by google\n",
        "- Executes Python code (and bash commands)\n",
        "- Supports markdown (TEXT)\n",
        "- Interactivity\n",
        "- To run a cell press `shift+enter`\n",
        "\n",
        "**Note:** You can watch [this video](https://www.youtube.com/watch?v=HW29067qVWk) if you are hearing jupyter notebook for the first time.\n",
        "\n",
        "\n",
        "\n",
        "\n",
        "#### **Fastai**\n",
        "- It is a deep learning library written in python\n",
        "- It provides high-level components that can quickly and easily provide *state-of-the-art* results in standard deep learning domains.\n",
        "- Key features: **ease of use**, **flexibility**, and **performance**.\n",
        "- Visit [fastai docs](https://docs.fast.ai/) to learn more.\n",
        "\n",
        "#### **Use GPU** \n",
        "Make sure you are using a **GPU** runtime. Click on `runtime` -> `change runtime type`. Under hardware accelerator select **GPU** and click **SAVE**.\n",
        "\n"
      ]
    },
    {
      "cell_type": "markdown",
      "metadata": {
        "id": "Iywn_HVXP3M2"
      },
      "source": [
        "#### **Setup**\n",
        "\n",
        "Fastai comes pre-installed in google colab but its an older version. So, we will first update `fastai` "
      ]
    },
    {
      "cell_type": "code",
      "metadata": {
        "id": "MxxfDQc9rKtQ"
      },
      "source": [
        "!pip install fastai --upgrade --quiet"
      ],
      "execution_count": null,
      "outputs": []
    },
    {
      "cell_type": "code",
      "metadata": {
        "id": "lIYdn1woOS1n"
      },
      "source": [
        "from fastai.vision.all import *"
      ],
      "execution_count": null,
      "outputs": []
    },
    {
      "cell_type": "markdown",
      "metadata": {
        "id": "SYlNQgj3LI7z"
      },
      "source": [
        "**Note**: Make sure you are using a **GPU** runtime."
      ]
    },
    {
      "cell_type": "markdown",
      "metadata": {
        "id": "ZMLyccGnVPaE"
      },
      "source": [
        "## Image Classifier\n",
        "\n",
        "For building an image classifier, we will need 3 things:\n",
        "- Data (images and labels)\n",
        "- Data Loaders\n",
        "- Learner\n",
        "\n",
        "Lets start by collecting data:"
      ]
    },
    {
      "cell_type": "markdown",
      "metadata": {
        "id": "a8RsszImWv_l"
      },
      "source": [
        "### Collecting data\n",
        "\n",
        "Lets start by creating a `data` folder where we will keep all our data."
      ]
    },
    {
      "cell_type": "code",
      "metadata": {
        "id": "Ex1iTJscIZAK"
      },
      "source": [
        "path = Path('data')\n",
        "path.mkdir(parents=True, exist_ok=True)"
      ],
      "execution_count": null,
      "outputs": []
    },
    {
      "cell_type": "markdown",
      "metadata": {
        "id": "Yh5mcw0bGzb5"
      },
      "source": [
        "For building an image classifier we will need urls of images. Generally, you need 80-150 images per class to train a good model.\n",
        "\n",
        "There are 3 possible ways of collecting data:\n",
        "- Manually copy pasting image urls - Not recommended.\n",
        "- Use existing [datasets](https://github.com/Ankur-singh/image_scrapper/tree/master/datasets).\n",
        "- Use [Image_url_scaper](https://share.streamlit.io/ankur-singh/image_scrapper)."
      ]
    },
    {
      "cell_type": "code",
      "metadata": {
        "id": "gxa2kYV2GzKK"
      },
      "source": [
        "!wget -q https://raw.githubusercontent.com/Ankur-singh/image_scrapper/master/datasets/bear.txt\n",
        "!wget -q https://raw.githubusercontent.com/Ankur-singh/image_scrapper/master/datasets/horse.txt\n",
        "!wget -q https://raw.githubusercontent.com/Ankur-singh/image_scrapper/master/datasets/dog.txt"
      ],
      "execution_count": null,
      "outputs": []
    },
    {
      "cell_type": "markdown",
      "metadata": {
        "id": "bCyO4VrJGo-l"
      },
      "source": [
        "Once we have all the URLs, we can easily download them using `download_images` function. \n"
      ]
    },
    {
      "cell_type": "code",
      "metadata": {
        "id": "zKG8g1AKqdZL"
      },
      "source": [
        "download_images('data/horse', Path('horse.txt'))\n",
        "download_images('data/dog', Path('dog.txt'))\n",
        "download_images('data/bear', Path('bear.txt'))"
      ],
      "execution_count": null,
      "outputs": []
    },
    {
      "cell_type": "code",
      "metadata": {
        "id": "HOrTNpQRqfPJ"
      },
      "source": [
        "files = get_image_files(path)\n",
        "len(files)"
      ],
      "execution_count": null,
      "outputs": []
    },
    {
      "cell_type": "code",
      "metadata": {
        "id": "rORlXpZltOSH"
      },
      "source": [
        "failed = verify_images(files)\n",
        "failed"
      ],
      "execution_count": null,
      "outputs": []
    },
    {
      "cell_type": "code",
      "metadata": {
        "id": "nueKNwSOJO0z"
      },
      "source": [
        "failed.map(Path.unlink) # delete corrupted files"
      ],
      "execution_count": null,
      "outputs": []
    },
    {
      "cell_type": "code",
      "metadata": {
        "id": "i_Wt6JM1NP5s"
      },
      "source": [
        "files = get_image_files(path)\n",
        "len(files)"
      ],
      "execution_count": null,
      "outputs": []
    },
    {
      "cell_type": "markdown",
      "metadata": {
        "id": "mTNLoT_QXo9l"
      },
      "source": [
        "Jupyter notebooks make it so easy to gradually build what you want, and check your work every step of the way. I, personally, make a lot of mistakes, so this is really helpful to me...\n",
        "\n",
        "Jupyter notebooks are great for experimenting and immediately seeing the results of each function, but there is also a lot of functionality to help you figure out how to use different functions, or even directly look at their source code. For instance, if you type in a cell:"
      ]
    },
    {
      "cell_type": "code",
      "metadata": {
        "id": "YCqrAEP5XxN1"
      },
      "source": [
        "verify_images??"
      ],
      "execution_count": null,
      "outputs": []
    },
    {
      "cell_type": "markdown",
      "metadata": {
        "id": "3TCIVyMGXxik"
      },
      "source": [
        "This tells us what argument the function accepts (files), then shows us the source code and the file it comes from. Looking at that source code, we can see it applies the function `verify_image` in parallel and only keeps the image files for which the result of that function is `False`, which is consistent with the doc string: it finds the images in *files* that can't be opened.\n"
      ]
    },
    {
      "cell_type": "markdown",
      "metadata": {
        "id": "bMcebVolYeb1"
      },
      "source": [
        "### DataLoaders\n",
        "\n",
        "In machine learning, almost all algorithms take the complete dataset while training. But in-case of deep learning, you don't pass the complete data at once.\n",
        "\n",
        "You divide the data into smaller batches and pass the batches as input to deep learnining model. **DataLoaders** allows us to train models on huge dataset. It parallely load the data, in batches, while the model is training.\n",
        "\n",
        "But we don't have to worry about it. The `Datablocks` API will take care of everything for us.\n",
        "\n",
        "To turn our downloaded data into a DataLoaders object we need to tell fastai at least four things:\n",
        "\n",
        "1. What kinds of data we are working with\n",
        "1. How to get the list of items\n",
        "1. How to label these items\n",
        "1. How to create the validation set\n",
        "\n",
        "This is how we can create a `DataLoaders` for the dataset that we just downloaded:"
      ]
    },
    {
      "cell_type": "code",
      "metadata": {
        "id": "vYR0P1U4uBGH"
      },
      "source": [
        "animals = DataBlock(\n",
        "    blocks=(ImageBlock, CategoryBlock), # x,y\n",
        "    get_items=get_image_files, \n",
        "    splitter=RandomSplitter(valid_pct=0.2, seed=42),\n",
        "    get_y=parent_label,\n",
        "    item_tfms=RandomResizedCrop(224, min_scale=0.5),\n",
        "    batch_tfms=aug_transforms())"
      ],
      "execution_count": null,
      "outputs": []
    },
    {
      "cell_type": "markdown",
      "metadata": {
        "id": "Mbx4smjEt9_F"
      },
      "source": [
        "Let's look at each of these arguments in turn. First we provide a tuple where we specify what types we want for the **independent** and **dependent** variables:\n",
        "\n",
        "```python\n",
        "blocks=(ImageBlock, CategoryBlock)\n",
        "```\n",
        "The independent variable is the thing we are using to make predictions from, and the dependent variable is our target. In this case, our independent variables are **images**, and our dependent variables are the **categories** (type of animal) for each image. \n",
        "\n",
        "For this DataLoaders our underlying items will be file paths. We have to tell fastai how to get a list of those files. The `get_image_files` function takes a path, and returns a list of all of the images in that path (recursively, by default):\n",
        "\n",
        "```python\n",
        "get_items=get_image_files\n",
        "```\n",
        "\n",
        "Next, we will randomly split our data into **training** and **validation** sets. However, we would like to have the same training/validation split each time we run this notebook, so we fix the *random seed* (computers don't really know how to create random numbers at all, but simply create lists of numbers that look random; if you provide the same starting point for that list each time—called the seed—then you will get the exact same list each time):\n",
        "\n",
        "```python\n",
        "splitter=RandomSplitter(valid_pct=0.2, seed=42)\n",
        "```\n",
        "The independent variable is often referred to as `x` and the dependent variable is often referred to as `y`. Here, we are telling fastai what function to call to create the labels in our dataset:\n",
        "\n",
        "```python\n",
        "get_y=parent_label\n",
        "```\n",
        "`parent_label` function simply gets the name of the folder a file is in. Because we put each of our images into folders based on its class, this is going to give us the labels that we need.\n",
        "\n",
        "Our images are all different sizes, and this is a problem for deep learning: we don't feed the model one image at a time but several of them (what we call a mini-batch). To group them in a big array (usually called a tensor) that is going to go through our model, they all need to be of the same size. So, we need to add a transform which will resize these images to the same size. Item transforms are pieces of code that run on each individual item, whether it be an image, category, or so forth. Here, we'll use `RandomResizedCrop` with an image size of 224 px, which is fairly standard for image classification, and default `aug_transforms`:\n",
        "\n",
        "```python\n",
        "item_tfms=RandomResizedCrop(224, min_scale=0.5),\n",
        "batch_tfms=aug_transforms()\n",
        "```\n",
        "\n",
        "This command has given us a DataBlock object. This is like a template for creating a DataLoaders. We still need to tell fastai the actual source of our data—in this case, the path where the images can be found:"
      ]
    },
    {
      "cell_type": "code",
      "metadata": {
        "id": "6VvZ4T_zuKGj"
      },
      "source": [
        "dls = animals.dataloaders(path)"
      ],
      "execution_count": null,
      "outputs": []
    },
    {
      "cell_type": "markdown",
      "metadata": {
        "id": "1xHTu_a4uE_C"
      },
      "source": [
        "A DataLoaders includes validation and training DataLoaders. DataLoader is a class that provides batches of a few items at a time to the GPU. \n",
        "\n",
        "When you loop through a DataLoader, by default you will get 64 items per batch, all stacked up into a single tensor. We can take a look at a few of those items by calling the `show_batch` method on a DataLoader:"
      ]
    },
    {
      "cell_type": "code",
      "metadata": {
        "id": "U2reh6g4uguc"
      },
      "source": [
        "dls.train.show_batch(max_n=4, nrows=1)"
      ],
      "execution_count": null,
      "outputs": []
    },
    {
      "cell_type": "markdown",
      "metadata": {
        "id": "BTCa6lJbxndr"
      },
      "source": [
        "### Learner\n",
        "\n",
        "Fastai's `learner` class, put together everything. \n",
        "- DataLoaders\n",
        "- Model Architecture\n",
        "- Loss function and metric\n",
        "- Training loop, callbacks and much more. \n",
        "\n",
        "Then we can create a `Learner`, which is a fastai object that combines the data and a model for training, and uses transfer learning to fine tune a pretrained model in just two lines of code:"
      ]
    },
    {
      "cell_type": "code",
      "metadata": {
        "id": "lpB2Zpnjuugd"
      },
      "source": [
        "learn = cnn_learner(dls, resnet18, metrics=error_rate)\n",
        "learn.fine_tune(3)"
      ],
      "execution_count": null,
      "outputs": []
    },
    {
      "cell_type": "markdown",
      "metadata": {
        "id": "EDXf2yD8ypYM"
      },
      "source": [
        "The first line downloaded a model called `ResNet18`, pretrained on ImageNet, and adapted it to our specific problem. It then fine tuned that model and in a relatively short time, we get a model with very high accuracy... amazing!\n",
        "\n",
        "If you want to make a prediction on a new image, you can use `learn.predict`:"
      ]
    },
    {
      "cell_type": "code",
      "metadata": {
        "id": "dl2BfubvCupE"
      },
      "source": [
        "learn.export()"
      ],
      "execution_count": null,
      "outputs": []
    },
    {
      "cell_type": "code",
      "metadata": {
        "id": "4CVuCc3_S5u0"
      },
      "source": [
        "files[10]"
      ],
      "execution_count": null,
      "outputs": []
    },
    {
      "cell_type": "code",
      "metadata": {
        "id": "6JwjFzZHyk08"
      },
      "source": [
        "learn.predict(files[10])"
      ],
      "execution_count": null,
      "outputs": []
    },
    {
      "cell_type": "markdown",
      "metadata": {
        "id": "LeR0IXd3zFmt"
      },
      "source": [
        "The predict method returns three things: \n",
        "1. the decoded prediction, \n",
        "2. the index of the predicted class and \n",
        "3. the tensor of probabilities of all classes in the order of their indexed labels. \n",
        "\n",
        "`predict` method accepts a filename, a PIL image or a tensor directly in this case. We can also have a look at multiple predictions at once, with the `learn.show_results` method:"
      ]
    },
    {
      "cell_type": "code",
      "metadata": {
        "id": "nYKDZGjPzgu4"
      },
      "source": [
        "learn.show_results()"
      ],
      "execution_count": null,
      "outputs": []
    },
    {
      "cell_type": "markdown",
      "metadata": {
        "id": "-Uwa0QElMbSp"
      },
      "source": [
        "It might look like a lot of code. But actually not. Lets try to re-create everything that we learned above "
      ]
    },
    {
      "cell_type": "code",
      "metadata": {
        "id": "Neeh6IYDMo_D"
      },
      "source": [
        "## Getting Data\n"
      ],
      "execution_count": null,
      "outputs": []
    },
    {
      "cell_type": "code",
      "metadata": {
        "id": "d9qFM9V0MpIU"
      },
      "source": [
        "## DataLoaders\n"
      ],
      "execution_count": null,
      "outputs": []
    },
    {
      "cell_type": "code",
      "metadata": {
        "id": "GVCat0mNMazq"
      },
      "source": [
        "## Learner\n"
      ],
      "execution_count": null,
      "outputs": []
    },
    {
      "cell_type": "code",
      "metadata": {
        "id": "TjPJbvvwM0Tu"
      },
      "source": [
        "## Making predictions\n"
      ],
      "execution_count": null,
      "outputs": []
    },
    {
      "cell_type": "markdown",
      "metadata": {
        "id": "sx1t9WPZzvgL"
      },
      "source": [
        "## Inference\n",
        "\n",
        "Now let's see whether the mistakes the model is making. To visualize it, we can create a confusion matrix:"
      ]
    },
    {
      "cell_type": "code",
      "metadata": {
        "id": "rwmFBCeIvFAP"
      },
      "source": [
        "interp = ClassificationInterpretation.from_learner(learn)\n",
        "interp.plot_confusion_matrix()"
      ],
      "execution_count": null,
      "outputs": []
    },
    {
      "cell_type": "markdown",
      "metadata": {
        "id": "V2VtlfYfLfre"
      },
      "source": [
        "The rows represents the actual classes. The columns represent the classes predicted by our model. Therefore, the diagonal of the matrix shows the images which were classified correctly, and the off-diagonal cells represent those which were classified incorrectly. The color-coding, makes it super easy to visualize mistakes. Our image classifier isn't making many mistakes!\n",
        "\n",
        "It's helpful to see where exactly our errors are occurring, to see whether they're due to a dataset problem (e.g., images that aren't bears at all, or are labeled incorrectly, etc.), or a model problem (perhaps it isn't handling images taken with unusual lighting, or from a different angle, etc.). To do this, we can sort our images by their loss.\n",
        "\n",
        "The loss is a number that is higher if the model is incorrect (especially if it's also confident of its incorrect answer), or if it's correct, but not confident of its correct answer. `plot_top_losses` shows us the images with the highest loss in our dataset. As the title of the output says, each image is labeled with four things: prediction, actual (target label), loss, and probability. The probability here is the confidence level, from zero to one, that the model has assigned to its prediction:"
      ]
    },
    {
      "cell_type": "code",
      "metadata": {
        "id": "P0FHVKi0vSVl"
      },
      "source": [
        "interp.plot_top_losses(5, nrows=1)"
      ],
      "execution_count": null,
      "outputs": []
    },
    {
      "cell_type": "markdown",
      "metadata": {
        "id": "PGTQztOcLtyK"
      },
      "source": [
        "We can see the some very different images.\n",
        "\n",
        "The intuitive approach to doing data cleaning is to do it before you train a model. But as you've seen in this case, a model can actually help you find data issues more quickly and easily. So, you can normally prefer to train a quick and simple model first, and then use it to help us with data cleaning."
      ]
    },
    {
      "cell_type": "markdown",
      "metadata": {
        "id": "jL6Qqn-nWKMm"
      },
      "source": [
        "## Deploying the Model"
      ]
    },
    {
      "cell_type": "markdown",
      "metadata": {
        "id": "KM1M5gASWplJ"
      },
      "source": [
        "First, we will export the model that we trained."
      ]
    },
    {
      "cell_type": "code",
      "metadata": {
        "id": "pdpiCTNGWm1f"
      },
      "source": [
        "learn.export('export.pkl')"
      ],
      "execution_count": null,
      "outputs": []
    },
    {
      "cell_type": "markdown",
      "metadata": {
        "id": "egbGM_oeWxqx"
      },
      "source": [
        "Installing `Streamlit` and `colab-everything`."
      ]
    },
    {
      "cell_type": "code",
      "metadata": {
        "id": "qcCAEmpPDoxj"
      },
      "source": [
        "!pip install streamlit --quiet\n",
        "!pip install colab-everything --quiet"
      ],
      "execution_count": null,
      "outputs": []
    },
    {
      "cell_type": "markdown",
      "metadata": {
        "id": "SVH8cQLZW5RN"
      },
      "source": [
        "Coping the app code from github"
      ]
    },
    {
      "cell_type": "code",
      "metadata": {
        "id": "idLLHliQItWz"
      },
      "source": [
        "!git clone https://github.com/Ankur-singh/CrowdSource-Workshop.git"
      ],
      "execution_count": null,
      "outputs": []
    },
    {
      "cell_type": "code",
      "metadata": {
        "id": "tbWKN2wzI40p"
      },
      "source": [
        "!cp CrowdSource-Workshop/app.py app.py"
      ],
      "execution_count": null,
      "outputs": []
    },
    {
      "cell_type": "markdown",
      "metadata": {
        "id": "BymwRAA5XBf7"
      },
      "source": [
        "Finally, running the app . . . "
      ]
    },
    {
      "cell_type": "code",
      "metadata": {
        "id": "hUauwd1zNZ0U"
      },
      "source": [
        "from colab_everything import ColabStreamlit\n",
        "ColabStreamlit('app.py')"
      ],
      "execution_count": null,
      "outputs": []
    },
    {
      "cell_type": "markdown",
      "metadata": {
        "id": "7tSG7qokVedU"
      },
      "source": [
        "### Use-cases\n",
        "\n",
        "- **Devanagari (देवनागरी) characters** : https://forums.fast.ai/t/share-your-work-here/27676/38\n",
        "- Distracted Driver: https://www.kaggle.com/c/state-farm-distracted-driver-detection/data\n",
        "- **DeepFashion**: https://medium.com/@pankajmathur/clothing-categories-classification-using-fast-ai-v1-0-in-10-lines-of-code-4e848797721\n",
        "- hotel & hostel rooms\n",
        "- Messi Classifier\n",
        "- Currency classifier\n",
        "- X-ray classifier and\n",
        "- much more.\n",
        "\n",
        "### Things to google\n",
        "- DataLoaders\n",
        "- Convolutional Neural Networks (CNNs)\n",
        "- ImageNet Competition\n",
        "- Transfer Learning\n",
        "- Confusion Matrix\n",
        "\n",
        "### Exercise\n",
        "Try building your own classifier."
      ]
    }
  ]
}
